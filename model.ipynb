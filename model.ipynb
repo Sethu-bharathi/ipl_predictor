{
 "cells": [
  {
   "cell_type": "code",
   "execution_count": 47,
   "id": "17834e07",
   "metadata": {},
   "outputs": [],
   "source": [
    "from sklearn.preprocessing import LabelEncoder\n",
    "from sklearn.compose import ColumnTransformer\n",
    "from sklearn.ensemble import RandomForestRegressor\n",
    "import numpy as np\n",
    "import pandas as pd\n",
    "import matplotlib.pyplot as plt"
   ]
  },
  {
   "cell_type": "code",
   "execution_count": 2,
   "id": "f6f96563",
   "metadata": {},
   "outputs": [],
   "source": [
    "my_data=pd.read_csv(\"my_data.csv\")\n",
    "to_change=['venue','batting_team','bowling_team']\n",
    "team_encoder=venue_encoder=LabelEncoder()\n",
    "my_data['venue']=venue_encoder.fit_transform(my_data[\"venue\"])\n",
    "my_data[\"batting_team\"]=team_encoder.fit_transform(my_data[\"batting_team\"])\n",
    "my_data[\"bowling_team\"]=team_encoder.fit_transform(my_data[\"bowling_team\"])\n",
    "my_data=my_data.drop(columns=[\"match_id\"])"
   ]
  },
  {
   "cell_type": "code",
   "execution_count": 92,
   "id": "8550f425",
   "metadata": {},
   "outputs": [
    {
     "data": {
      "image/png": "[encoded data removed]",
      "text/plain": [
       "<Figure size 432x288 with 1 Axes>"
      ]
     },
     "metadata": {
      "needs_background": "light"
     },
     "output_type": "display_data"
    }
   ],
   "source": [
    "from sklearn.ensemble import RandomForestRegressor\n",
    "from sklearn.metrics import mean_absolute_error\n",
    "from sklearn.model_selection import train_test_split\n",
    "np.random.seed(42)\n",
    "\n",
    "x=my_data.drop('total_runs',axis=1)\n",
    "y=my_data[\"total_runs\"]\n",
    "x_train,x_test,y_train,y_test=train_test_split(x,y,test_size=0.2)\n",
    "team_encoder=venue_encoder=LabelEncoder()\n",
    "\n",
    "model=RandomForestRegressor(min_samples_split=4,\n",
    " min_samples_leaf= 3,\n",
    " max_leaf_nodes=7,\n",
    " max_depth= 5,)\n",
    "\n",
    "\n",
    "model.fit(x,y)\n",
    "y_preds=model.predict(x_test).round()\n",
    "mean_absolute_error(y_preds,y_test)\n",
    "plt.scatter(y_test,y_preds,color=\"orange\");\n",
    "\n",
    "\n"
   ]
  },
  {
   "cell_type": "code",
   "execution_count": 80,
   "id": "1ab61aeb",
   "metadata": {},
   "outputs": [
    {
     "data": {
      "text/plain": [
       "{'bootstrap': True,\n",
       " 'ccp_alpha': 0.0,\n",
       " 'criterion': 'mse',\n",
       " 'max_depth': None,\n",
       " 'max_features': 'auto',\n",
       " 'max_leaf_nodes': None,\n",
       " 'max_samples': None,\n",
       " 'min_impurity_decrease': 0.0,\n",
       " 'min_impurity_split': None,\n",
       " 'min_samples_leaf': 1,\n",
       " 'min_samples_split': 2,\n",
       " 'min_weight_fraction_leaf': 0.0,\n",
       " 'n_estimators': 100,\n",
       " 'n_jobs': None,\n",
       " 'oob_score': False,\n",
       " 'random_state': None,\n",
       " 'verbose': 0,\n",
       " 'warm_start': False}"
      ]
     },
     "execution_count": 80,
     "metadata": {},
     "output_type": "execute_result"
    }
   ],
   "source": [
    "RandomForestRegressor().get_params()"
   ]
  },
  {
   "cell_type": "code",
   "execution_count": null,
   "id": "08d5dc82",
   "metadata": {},
   "outputs": [],
   "source": []
  },
  {
   "cell_type": "code",
   "execution_count": 44,
   "id": "f5294eb2",
   "metadata": {},
   "outputs": [
    {
     "name": "stderr",
     "output_type": "stream",
     "text": [
      "c:\\Users\\bhara\\Documents\\ML_projects\\first-sample-project\\env\\lib\\site-packages\\sklearn\\model_selection\\_search.py:285: UserWarning: The total space of parameters 8 is smaller than n_iter=10. Running 8 iterations. For exhaustive searches, use GridSearchCV.\n",
      "  warnings.warn(\n"
     ]
    },
    {
     "data": {
      "text/plain": [
       "RandomizedSearchCV(cv=5, estimator=RandomForestRegressor(),\n",
       "                   param_distributions={'max_depth': [5], 'max_leaf_nodes': [7],\n",
       "                                        'min_samples_leaf': [4, 3],\n",
       "                                        'min_samples_split': [5, 4],\n",
       "                                        'min_weight_fraction_leaf': [0.15,\n",
       "                                                                     0.2]})"
      ]
     },
     "execution_count": 44,
     "metadata": {},
     "output_type": "execute_result"
    }
   ],
   "source": [
    "from sklearn.model_selection import RandomizedSearchCV\n",
    "\n",
    "grid={\n",
    "    'max_depth':[5],\n",
    "    \"max_leaf_nodes\":[7],\n",
    "    'min_samples_leaf':[3],\n",
    "    'min_samples_split': [4],\n",
    "    'min_weight_fraction_leaf': [0.15,0.2],\n",
    "    \n",
    "}\n",
    "np.random.seed(42)\n",
    "\n",
    "clf=RandomForestRegressor()\n",
    "rs_clf=RandomizedSearchCV(estimator=clf,\n",
    "                         param_distributions=grid,\n",
    "                         n_iter=10,\n",
    "                          cv=5,)\n",
    "\n",
    "rs_clf.fit(x_train,y_train)"
   ]
  },
  {
   "cell_type": "code",
   "execution_count": 45,
   "id": "d7cfdd8d",
   "metadata": {},
   "outputs": [
    {
     "data": {
      "text/plain": [
       "{'min_weight_fraction_leaf': 0.2,\n",
       " 'min_samples_split': 4,\n",
       " 'min_samples_leaf': 3,\n",
       " 'max_leaf_nodes': 7,\n",
       " 'max_depth': 5}"
      ]
     },
     "execution_count": 45,
     "metadata": {},
     "output_type": "execute_result"
    }
   ],
   "source": [
    "rs_clf.best_params_"
   ]
  },
  {
   "cell_type": "code",
   "execution_count": 51,
   "id": "03d5c65a",
   "metadata": {},
   "outputs": [],
   "source": [
    "import pickle"
   ]
  },
  {
   "cell_type": "code",
   "execution_count": null,
   "id": "354154b8",
   "metadata": {},
   "outputs": [],
   "source": []
  }
 ],
 "metadata": {
  "kernelspec": {
   "display_name": "Python 3",
   "language": "python",
   "name": "python3"
  },
  "language_info": {
   "codemirror_mode": {
    "name": "ipython",
    "version": 3
   },
   "file_extension": ".py",
   "mimetype": "text/x-python",
   "name": "python",
   "nbconvert_exporter": "python",
   "pygments_lexer": "ipython3",
   "version": "3.9.5"
  },
  "metadata": {
   "interpreter": {
    "hash": "afd64fed61cf6f325b3efc49ef0c0b0e6f2fff7ab05418620d36f0d0f0f180df"
   }
  }
 },
 "nbformat": 4,
 "nbformat_minor": 5
}
